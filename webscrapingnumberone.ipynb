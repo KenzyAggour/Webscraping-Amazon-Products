{
 "cells": [
  {
   "cell_type": "code",
   "execution_count": 1,
   "metadata": {},
   "outputs": [
    {
     "name": "stdout",
     "output_type": "stream",
     "text": [
      "Collecting seleniumNote: you may need to restart the kernel to use updated packages.\n",
      "\n",
      "  Downloading selenium-4.16.0-py3-none-any.whl (10.0 MB)\n",
      "Collecting urllib3[socks]<3,>=1.26\n",
      "  Downloading urllib3-2.1.0-py3-none-any.whl (104 kB)\n",
      "Collecting certifi>=2021.10.8\n",
      "  Downloading certifi-2023.11.17-py3-none-any.whl (162 kB)\n",
      "Collecting trio~=0.17\n",
      "  Downloading trio-0.23.2-py3-none-any.whl (461 kB)\n",
      "Collecting trio-websocket~=0.9\n",
      "  Downloading trio_websocket-0.11.1-py3-none-any.whl (17 kB)\n",
      "Collecting cffi>=1.14\n",
      "  Downloading cffi-1.16.0-cp310-cp310-win_amd64.whl (181 kB)\n",
      "Requirement already satisfied: exceptiongroup in c:\\users\\user\\appdata\\roaming\\python\\python310\\site-packages (from trio~=0.17->selenium) (1.2.0)\n",
      "Collecting outcome\n",
      "  Downloading outcome-1.3.0.post0-py2.py3-none-any.whl (10 kB)\n",
      "Collecting sortedcontainers\n",
      "  Downloading sortedcontainers-2.4.0-py2.py3-none-any.whl (29 kB)\n",
      "Collecting attrs>=20.1.0\n",
      "  Downloading attrs-23.1.0-py3-none-any.whl (61 kB)\n",
      "Collecting sniffio>=1.3.0\n",
      "  Using cached sniffio-1.3.0-py3-none-any.whl (10 kB)\n",
      "Collecting idna\n",
      "  Downloading idna-3.6-py3-none-any.whl (61 kB)\n",
      "Collecting pycparser\n",
      "  Using cached pycparser-2.21-py2.py3-none-any.whl (118 kB)\n",
      "Collecting wsproto>=0.14\n",
      "  Downloading wsproto-1.2.0-py3-none-any.whl (24 kB)\n",
      "Collecting pysocks!=1.5.7,<2.0,>=1.5.6\n",
      "  Downloading PySocks-1.7.1-py3-none-any.whl (16 kB)\n",
      "Collecting h11<1,>=0.9.0\n",
      "  Downloading h11-0.14.0-py3-none-any.whl (58 kB)\n",
      "Installing collected packages: pycparser, attrs, sortedcontainers, sniffio, outcome, idna, h11, cffi, wsproto, urllib3, trio, pysocks, trio-websocket, certifi, selenium\n",
      "Successfully installed attrs-23.1.0 certifi-2023.11.17 cffi-1.16.0 h11-0.14.0 idna-3.6 outcome-1.3.0.post0 pycparser-2.21 pysocks-1.7.1 selenium-4.16.0 sniffio-1.3.0 sortedcontainers-2.4.0 trio-0.23.2 trio-websocket-0.11.1 urllib3-2.1.0 wsproto-1.2.0\n"
     ]
    },
    {
     "name": "stderr",
     "output_type": "stream",
     "text": [
      "WARNING: You are using pip version 21.2.3; however, version 23.3.2 is available.\n",
      "You should consider upgrading via the 'c:\\Users\\User\\AppData\\Local\\Programs\\Python\\Python310\\python.exe -m pip install --upgrade pip' command.\n"
     ]
    }
   ],
   "source": [
    "pip install selenium"
   ]
  },
  {
   "cell_type": "code",
   "execution_count": 62,
   "metadata": {},
   "outputs": [
    {
     "name": "stdout",
     "output_type": "stream",
     "text": [
      "Collecting requests\n",
      "  Downloading requests-2.31.0-py3-none-any.whl (62 kB)\n",
      "Requirement already satisfied: certifi>=2017.4.17 in c:\\users\\user\\appdata\\local\\programs\\python\\python310\\lib\\site-packages (from requests) (2023.11.17)\n",
      "Collecting charset-normalizer<4,>=2\n",
      "  Downloading charset_normalizer-3.3.2-cp310-cp310-win_amd64.whl (100 kB)\n",
      "Requirement already satisfied: urllib3<3,>=1.21.1 in c:\\users\\user\\appdata\\local\\programs\\python\\python310\\lib\\site-packages (from requests) (2.1.0)\n",
      "Requirement already satisfied: idna<4,>=2.5 in c:\\users\\user\\appdata\\local\\programs\\python\\python310\\lib\\site-packages (from requests) (3.6)\n",
      "Installing collected packages: charset-normalizer, requests\n",
      "Successfully installed charset-normalizer-3.3.2 requests-2.31.0\n",
      "Note: you may need to restart the kernel to use updated packages.\n"
     ]
    },
    {
     "name": "stderr",
     "output_type": "stream",
     "text": [
      "WARNING: You are using pip version 21.2.3; however, version 23.3.2 is available.\n",
      "You should consider upgrading via the 'c:\\Users\\User\\AppData\\Local\\Programs\\Python\\Python310\\python.exe -m pip install --upgrade pip' command.\n"
     ]
    }
   ],
   "source": [
    "pip install requests"
   ]
  },
  {
   "cell_type": "markdown",
   "metadata": {},
   "source": [
    "1) create a driver\n",
    "2) get / request\n",
    "3) parse or extract desired info\n",
    "4) save as csv or xml or .."
   ]
  },
  {
   "cell_type": "code",
   "execution_count": 76,
   "metadata": {},
   "outputs": [],
   "source": [
    "from selenium import webdriver\n",
    "import csv\n",
    "import requests\n",
    "import re"
   ]
  },
  {
   "cell_type": "code",
   "execution_count": 69,
   "metadata": {},
   "outputs": [],
   "source": [
    "driver = webdriver.Chrome()"
   ]
  },
  {
   "cell_type": "code",
   "execution_count": 71,
   "metadata": {},
   "outputs": [],
   "source": [
    "driver.get(\"https://www.amazon.com/s?i=specialty-aps&bbn=16225009011&rh=n%3A%2116225009011%2Cn%3A281407&ref=nav_em__nav_desktop_sa_intl_accessories_and_supplies_0_2_5_2\")"
   ]
  },
  {
   "cell_type": "code",
   "execution_count": 72,
   "metadata": {},
   "outputs": [],
   "source": [
    "blocks = driver.find_elements(\"xpath\" , \"//div[@class= 'a-section a-spacing-base']\")"
   ]
  },
  {
   "cell_type": "code",
   "execution_count": 77,
   "metadata": {},
   "outputs": [
    {
     "name": "stdout",
     "output_type": "stream",
     "text": [
      "Done\n"
     ]
    }
   ],
   "source": [
    "with open(\"amazon.csv\", 'w', newline='', encoding='utf-8') as csv_file:\n",
    "    csv_writer = csv.writer(csv_file)\n",
    "    header = ['Name', 'Price', 'Rating', 'Number of Ratings' , 'Photo URL']\n",
    "    csv_writer.writerow(header)\n",
    "\n",
    "    for block in blocks:\n",
    "        #name\n",
    "        product_name = block.find_element(\"xpath\", \".//h2[@class = 'a-size-mini a-spacing-none a-color-base s-line-clamp-4']\").text\n",
    "        \n",
    "        #price\n",
    "        price_whole = block.find_elements(\"xpath\" , \".//span[@class='a-price-whole']\")\n",
    "        price_decimal = block.find_elements(\"xpath\", \".//span[@class='a-price-fraction']\")\n",
    "        if price_whole != [] and price_decimal != []:\n",
    "            price = '.'.join([price_whole[0].text, price_decimal[0].text])\n",
    "        else:\n",
    "            price = \"Price not available\"\n",
    "\n",
    "        #ratings\n",
    "        ratings_box = block.find_elements(\"xpath\", './/div[@class=\"a-row a-size-small\"]/span')\n",
    "        if ratings_box != []:\n",
    "            ratings = ratings_box[0].get_attribute('aria-label')\n",
    "            ratings_num = ratings_box[1].get_attribute('aria-label')\n",
    "        else:\n",
    "            ratings, ratings_num = \"Rating unavailable\", \"Number of ratings unavailable\"\n",
    "\n",
    "\n",
    "        #pic urls\n",
    "        photo_url = block.find_element(\"xpath\", \".//img[@class='s-image']\").get_attribute('src')\n",
    "            \n",
    "\n",
    "        #print(product_name,\"\\n\", price,\"\\n\", ratings,\"\\n\",ratings_num,\"\\n\",photo_url, \"\\n\\n\\n\\n\")\n",
    "\n",
    "        #writing into the csv file\n",
    "        csv_writer.writerow([product_name,price,ratings,ratings_num,photo_url])\n",
    "\n",
    "\n",
    "        #downloading photos\n",
    "        response = requests.get(photo_url)\n",
    "\n",
    "        product_name_updated = re.sub(r'\\W+', '_', product_name)   #replace any nonword character with _ \n",
    "        img = f\"{product_name_updated}.jpg\"\n",
    "        with open(img, 'wb') as img_file:\n",
    "            img_file.write(response.content)\n",
    "\n",
    "\n",
    "    print(\"Done\")\n",
    "    #csv file and photos are saved in the same directory as your script"
   ]
  }
 ],
 "metadata": {
  "kernelspec": {
   "display_name": "Python 3",
   "language": "python",
   "name": "python3"
  },
  "language_info": {
   "codemirror_mode": {
    "name": "ipython",
    "version": 3
   },
   "file_extension": ".py",
   "mimetype": "text/x-python",
   "name": "python",
   "nbconvert_exporter": "python",
   "pygments_lexer": "ipython3",
   "version": "3.10.5"
  }
 },
 "nbformat": 4,
 "nbformat_minor": 2
}
